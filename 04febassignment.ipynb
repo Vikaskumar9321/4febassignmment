{
 "cells": [
  {
   "cell_type": "code",
   "execution_count": 2,
   "id": "8d2be427-0961-48da-aed1-aaa02bb133b1",
   "metadata": {},
   "outputs": [
    {
     "name": "stdout",
     "output_type": "stream",
     "text": [
      "Sorted player records based on the runs scored: \n",
      "Virat Kohli : 24936\n",
      "Jack Kallis : 25534\n",
      "Ricky Ponting : 27483\n",
      "Sachin Tendulkar : 34357\n"
     ]
    }
   ],
   "source": [
    "#Ans 1\n",
    "playerRecords = [('Sachin Tendulkar', 34357), ('Ricky Ponting', 27483), ('Jack Kallis', 25534), ('Virat Kohli', 24936)]\n",
    "sortedRecords = sorted(playerRecords, key =lambda x : x[1])\n",
    "print(\"Sorted player records based on the runs scored: \")\n",
    "for player in sortedRecords:\n",
    "    print(player[0], \":\" , player[1])"
   ]
  },
  {
   "cell_type": "code",
   "execution_count": 3,
   "id": "8d8752d5-0cc6-4f83-a1a9-e0c25fa10f2c",
   "metadata": {},
   "outputs": [],
   "source": [
    "#Ans 2\n",
    "l = [1,2,3,4,5,6,7,8,9,10]"
   ]
  },
  {
   "cell_type": "code",
   "execution_count": 4,
   "id": "5f62e454-6250-4ea2-a3b1-9172ddda135f",
   "metadata": {},
   "outputs": [
    {
     "data": {
      "text/plain": [
       "[1, 4, 9, 16, 25, 36, 49, 64, 81, 100]"
      ]
     },
     "execution_count": 4,
     "metadata": {},
     "output_type": "execute_result"
    }
   ],
   "source": [
    "list(map(lambda x : x**2 , l))"
   ]
  },
  {
   "cell_type": "code",
   "execution_count": 5,
   "id": "a1effc4b-1c2f-473f-8f76-dfd84372f141",
   "metadata": {},
   "outputs": [
    {
     "data": {
      "text/plain": [
       "('1', '2', '3', '4', '5', '6', '7', '8', '9', '10')"
      ]
     },
     "execution_count": 5,
     "metadata": {},
     "output_type": "execute_result"
    }
   ],
   "source": [
    "#Ans 3\n",
    "l1 = [1,2,3,4,5,6,7,8,9,10]\n",
    "tuple(map(lambda x: str(x), l1))"
   ]
  },
  {
   "cell_type": "code",
   "execution_count": 6,
   "id": "a7557041-c772-4e65-8b82-496c6f862fd8",
   "metadata": {},
   "outputs": [],
   "source": [
    "#Ans 4\n",
    "from functools import reduce"
   ]
  },
  {
   "cell_type": "code",
   "execution_count": 7,
   "id": "9eafa710-119a-42f1-86f2-563b245e0190",
   "metadata": {},
   "outputs": [
    {
     "data": {
      "text/plain": [
       "15511210043330985984000000"
      ]
     },
     "execution_count": 7,
     "metadata": {},
     "output_type": "execute_result"
    }
   ],
   "source": [
    "num = [x for x in range(1,26)]\n",
    "reduce(lambda x,y : x*y, num)"
   ]
  },
  {
   "cell_type": "code",
   "execution_count": 8,
   "id": "c05ceca4-0279-454a-be50-3d4368a71396",
   "metadata": {},
   "outputs": [],
   "source": [
    "#Ans 5\n",
    "l3 = [2,3,6,9,27,60,90,120,55,46]"
   ]
  },
  {
   "cell_type": "code",
   "execution_count": 14,
   "id": "b0e248e3-2eb3-432c-89c9-9c6cd8f43a58",
   "metadata": {},
   "outputs": [
    {
     "data": {
      "text/plain": [
       "[6, 60, 90, 120]"
      ]
     },
     "execution_count": 14,
     "metadata": {},
     "output_type": "execute_result"
    }
   ],
   "source": [
    "list(filter(lambda x: x%2==0 and x%3==0,l3))"
   ]
  },
  {
   "cell_type": "code",
   "execution_count": 15,
   "id": "67721143-8ba5-4a06-9eb4-f8b4f3226f85",
   "metadata": {},
   "outputs": [
    {
     "data": {
      "text/plain": [
       "['php', 'aba', 'radar', 'level']"
      ]
     },
     "execution_count": 15,
     "metadata": {},
     "output_type": "execute_result"
    }
   ],
   "source": [
    "#Ans 6\n",
    "l4 = ['python', 'php' , 'aba' , 'radar' , 'level']\n",
    "list(filter(lambda x: x==x[::-1],l4 ))"
   ]
  },
  {
   "cell_type": "code",
   "execution_count": null,
   "id": "5ff0f3c4-52c1-4c63-aa39-be35b2790356",
   "metadata": {},
   "outputs": [],
   "source": []
  }
 ],
 "metadata": {
  "kernelspec": {
   "display_name": "Python 3 (ipykernel)",
   "language": "python",
   "name": "python3"
  },
  "language_info": {
   "codemirror_mode": {
    "name": "ipython",
    "version": 3
   },
   "file_extension": ".py",
   "mimetype": "text/x-python",
   "name": "python",
   "nbconvert_exporter": "python",
   "pygments_lexer": "ipython3",
   "version": "3.10.8"
  }
 },
 "nbformat": 4,
 "nbformat_minor": 5
}
